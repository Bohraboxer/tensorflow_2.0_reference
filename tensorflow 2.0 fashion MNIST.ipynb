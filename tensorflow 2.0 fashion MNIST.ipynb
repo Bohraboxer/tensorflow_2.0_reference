{
 "cells": [
  {
   "cell_type": "code",
   "execution_count": 3,
   "metadata": {},
   "outputs": [
    {
     "data": {
      "text/plain": [
       "'2.1.0'"
      ]
     },
     "execution_count": 3,
     "metadata": {},
     "output_type": "execute_result"
    }
   ],
   "source": [
    "import tensorflow as tf\n",
    "\n",
    "tf.__version__"
   ]
  },
  {
   "cell_type": "code",
   "execution_count": 4,
   "metadata": {},
   "outputs": [],
   "source": [
    "# importing necessary packages\n",
    "import numpy as np\n",
    "import datetime\n",
    "import tensorflow as tf\n",
    "from tensorflow.keras.datasets import fashion_mnist"
   ]
  },
  {
   "cell_type": "code",
   "execution_count": 6,
   "metadata": {},
   "outputs": [
    {
     "name": "stdout",
     "output_type": "stream",
     "text": [
      "Downloading data from https://storage.googleapis.com/tensorflow/tf-keras-datasets/train-labels-idx1-ubyte.gz\n",
      "32768/29515 [=================================] - 0s 1us/step\n",
      "Downloading data from https://storage.googleapis.com/tensorflow/tf-keras-datasets/train-images-idx3-ubyte.gz\n",
      "26427392/26421880 [==============================] - 18s 1us/step\n",
      "Downloading data from https://storage.googleapis.com/tensorflow/tf-keras-datasets/t10k-labels-idx1-ubyte.gz\n",
      "8192/5148 [===============================================] - 0s 1us/step\n",
      "Downloading data from https://storage.googleapis.com/tensorflow/tf-keras-datasets/t10k-images-idx3-ubyte.gz\n",
      "4423680/4422102 [==============================] - 3s 1us/step\n"
     ]
    }
   ],
   "source": [
    "# assigning train and test data into variables\n",
    "(X_train, y_train), (X_test, y_test) = fashion_mnist.load_data()"
   ]
  },
  {
   "cell_type": "code",
   "execution_count": 7,
   "metadata": {},
   "outputs": [],
   "source": [
    "# normalizing data so that the computation is simpler\n",
    "X_train = X_train / 255.0\n",
    "X_test = X_test / 255.0"
   ]
  },
  {
   "cell_type": "code",
   "execution_count": 8,
   "metadata": {},
   "outputs": [],
   "source": [
    "# Since each image's dimension is 28x28, we reshape the full dataset to [-1 (all elements), height * width]\n",
    "X_train = X_train.reshape(-1, 28*28)"
   ]
  },
  {
   "cell_type": "code",
   "execution_count": 9,
   "metadata": {},
   "outputs": [
    {
     "data": {
      "text/plain": [
       "(60000, 784)"
      ]
     },
     "execution_count": 9,
     "metadata": {},
     "output_type": "execute_result"
    }
   ],
   "source": [
    "# to see the shape of the data\n",
    "X_train.shape"
   ]
  },
  {
   "cell_type": "code",
   "execution_count": 10,
   "metadata": {},
   "outputs": [],
   "source": [
    "# We reshape the test set the same way\n",
    "X_test = X_test.reshape(-1, 28*28)"
   ]
  },
  {
   "cell_type": "code",
   "execution_count": 12,
   "metadata": {},
   "outputs": [
    {
     "data": {
      "text/plain": [
       "(10000, 784)"
      ]
     },
     "execution_count": 12,
     "metadata": {},
     "output_type": "execute_result"
    }
   ],
   "source": [
    "X_test.shape"
   ]
  },
  {
   "cell_type": "code",
   "execution_count": null,
   "metadata": {},
   "outputs": [],
   "source": []
  },
  {
   "cell_type": "code",
   "execution_count": 14,
   "metadata": {},
   "outputs": [],
   "source": [
    "# definig the model to be sequential\n",
    "model = tf.keras.models.Sequential()"
   ]
  },
  {
   "cell_type": "code",
   "execution_count": 15,
   "metadata": {},
   "outputs": [],
   "source": [
    "# fully connected hidden layer with hyperparameters\n",
    "# units = no. of neurons\n",
    "# activation_function = 'Relu'\n",
    "# input shape = input size of the model\n",
    "model.add(tf.keras.layers.Dense(units=128, activation='relu', input_shape=(784, )))"
   ]
  },
  {
   "cell_type": "code",
   "execution_count": 17,
   "metadata": {},
   "outputs": [],
   "source": [
    "# dropout layer which acts as a regularizer\n",
    "model.add(tf.keras.layers.Dropout(0.2))"
   ]
  },
  {
   "cell_type": "code",
   "execution_count": 19,
   "metadata": {},
   "outputs": [],
   "source": [
    "# adding output layer to network\n",
    "model.add(tf.keras.layers.Dense(units=10, activation='softmax'))"
   ]
  },
  {
   "cell_type": "code",
   "execution_count": 20,
   "metadata": {},
   "outputs": [],
   "source": [
    "model.compile(optimizer='adam', loss='sparse_categorical_crossentropy', metrics=['sparse_categorical_accuracy'])"
   ]
  },
  {
   "cell_type": "code",
   "execution_count": 21,
   "metadata": {},
   "outputs": [
    {
     "name": "stdout",
     "output_type": "stream",
     "text": [
      "Model: \"sequential_1\"\n",
      "_________________________________________________________________\n",
      "Layer (type)                 Output Shape              Param #   \n",
      "=================================================================\n",
      "dense (Dense)                (None, 128)               100480    \n",
      "_________________________________________________________________\n",
      "dropout (Dropout)            (None, 128)               0         \n",
      "_________________________________________________________________\n",
      "dense_1 (Dense)              (None, 10)                1290      \n",
      "=================================================================\n",
      "Total params: 101,770\n",
      "Trainable params: 101,770\n",
      "Non-trainable params: 0\n",
      "_________________________________________________________________\n"
     ]
    }
   ],
   "source": [
    "model.summary()"
   ]
  },
  {
   "cell_type": "code",
   "execution_count": 22,
   "metadata": {},
   "outputs": [
    {
     "name": "stdout",
     "output_type": "stream",
     "text": [
      "Train on 60000 samples\n",
      "Epoch 1/25\n",
      "60000/60000 [==============================] - 5s 90us/sample - loss: 0.5242 - sparse_categorical_accuracy: 0.8131\n",
      "Epoch 2/25\n",
      "60000/60000 [==============================] - 5s 82us/sample - loss: 0.3989 - sparse_categorical_accuracy: 0.8552\n",
      "Epoch 3/25\n",
      "60000/60000 [==============================] - 5s 84us/sample - loss: 0.3678 - sparse_categorical_accuracy: 0.86442s - loss: 0.3660 - sparse_catego - ETA: 1s - loss: 0.3674 - sparse_\n",
      "Epoch 4/25\n",
      "60000/60000 [==============================] - 5s 88us/sample - loss: 0.3435 - sparse_categorical_accuracy: 0.87231s - loss: 0.3437 - sparse_categori\n",
      "Epoch 5/25\n",
      "60000/60000 [==============================] - 5s 79us/sample - loss: 0.3306 - sparse_categorical_accuracy: 0.8780\n",
      "Epoch 6/25\n",
      "60000/60000 [==============================] - 5s 79us/sample - loss: 0.3175 - sparse_categorical_accuracy: 0.88202s - loss: 0.3119 - sparse_categorical_accuracy: 0.88 - ETA: 2s \n",
      "Epoch 7/25\n",
      "60000/60000 [==============================] - 5s 79us/sample - loss: 0.3062 - sparse_categorical_accuracy: 0.8864\n",
      "Epoch 8/25\n",
      "60000/60000 [==============================] - 5s 88us/sample - loss: 0.2960 - sparse_categorical_accuracy: 0.8902\n",
      "Epoch 9/25\n",
      "60000/60000 [==============================] - 5s 80us/sample - loss: 0.2906 - sparse_categorical_accuracy: 0.8910\n",
      "Epoch 10/25\n",
      "60000/60000 [==============================] - 5s 80us/sample - loss: 0.2827 - sparse_categorical_accuracy: 0.89522s - loss: 0.2801 - sparse_categorical_accuracy: 0.895 - ETA: 2s - loss: 0.2811 - sparse_categorical_ac - ETA: 1s - loss: 0.2807 - sparse_categorical_accuracy: 0.89 - ETA: 1s - loss: 0.2807 - spar - ETA: 0s - loss: 0.2818 - sparse_categorical_accuracy: 0.\n",
      "Epoch 11/25\n",
      "60000/60000 [==============================] - 5s 80us/sample - loss: 0.2756 - sparse_categorical_accuracy: 0.89670s - loss: 0.2756 - sparse_categorical_accura\n",
      "Epoch 12/25\n",
      "60000/60000 [==============================] - 5s 80us/sample - loss: 0.2722 - sparse_categorical_accuracy: 0.89941s - loss: 0.27\n",
      "Epoch 13/25\n",
      "60000/60000 [==============================] - 5s 79us/sample - loss: 0.2666 - sparse_categorical_accuracy: 0.8991\n",
      "Epoch 14/25\n",
      "60000/60000 [==============================] - 5s 79us/sample - loss: 0.2613 - sparse_categorical_accuracy: 0.9024\n",
      "Epoch 15/25\n",
      "60000/60000 [==============================] - 5s 79us/sample - loss: 0.2568 - sparse_categorical_accuracy: 0.90334s - loss: 0.2616 - sparse_categorical_accurac - ETA: 4s - loss: 0.2543 - ETA: 2s - loss: 0.\n",
      "Epoch 16/25\n",
      "60000/60000 [==============================] - 5s 79us/sample - loss: 0.2506 - sparse_categorical_accuracy: 0.90561s - loss: 0.2512 - sparse_cat\n",
      "Epoch 17/25\n",
      "60000/60000 [==============================] - 5s 83us/sample - loss: 0.2487 - sparse_categorical_accuracy: 0.90562s \n",
      "Epoch 18/25\n",
      "60000/60000 [==============================] - 5s 83us/sample - loss: 0.2429 - sparse_categorical_accuracy: 0.9082\n",
      "Epoch 19/25\n",
      "60000/60000 [==============================] - 5s 82us/sample - loss: 0.2406 - sparse_categorical_accuracy: 0.90700s - loss: 0.2407 - sparse_categorical_accuracy:\n",
      "Epoch 20/25\n",
      "60000/60000 [==============================] - 5s 80us/sample - loss: 0.2342 - sparse_categorical_accuracy: 0.9113\n",
      "Epoch 21/25\n",
      "60000/60000 [==============================] - 5s 81us/sample - loss: 0.2329 - sparse_categorical_accuracy: 0.91182s - loss: 0.2287 - sparse_cate - ETA: 1s - loss: 0.2304 - sparse_categorical_accuracy: 0.91 - ETA: 1s - loss: 0.2306 - sparse_categ\n",
      "Epoch 22/25\n",
      "60000/60000 [==============================] - 5s 84us/sample - loss: 0.2313 - sparse_categorical_accuracy: 0.91203s - loss: 0.2268 - sparse_c - ETA: 2s - loss: 0.22\n",
      "Epoch 23/25\n",
      "60000/60000 [==============================] - 5s 79us/sample - loss: 0.2285 - sparse_categorical_accuracy: 0.9138\n",
      "Epoch 24/25\n",
      "60000/60000 [==============================] - 5s 79us/sample - loss: 0.2232 - sparse_categorical_accuracy: 0.91551s - loss: 0.2232 - sparse_categori\n",
      "Epoch 25/25\n",
      "60000/60000 [==============================] - 5s 79us/sample - loss: 0.2232 - sparse_categorical_accuracy: 0.91512s - \n"
     ]
    },
    {
     "data": {
      "text/plain": [
       "<tensorflow.python.keras.callbacks.History at 0x15739e250>"
      ]
     },
     "execution_count": 22,
     "metadata": {},
     "output_type": "execute_result"
    }
   ],
   "source": [
    "model.fit(X_train, y_train, epochs=25)"
   ]
  },
  {
   "cell_type": "code",
   "execution_count": 24,
   "metadata": {},
   "outputs": [
    {
     "name": "stdout",
     "output_type": "stream",
     "text": [
      "10000/10000 [==============================] - 0s 50us/sample - loss: 0.3485 - sparse_categorical_accuracy: 0.8874\n"
     ]
    }
   ],
   "source": [
    "test_loss, test_accuracy = model.evaluate(X_test, y_test)"
   ]
  },
  {
   "cell_type": "code",
   "execution_count": 26,
   "metadata": {},
   "outputs": [
    {
     "name": "stdout",
     "output_type": "stream",
     "text": [
      "Test accuracy: 0.8873999714851379\n",
      "Test score: 0.3484962620019913\n"
     ]
    }
   ],
   "source": [
    "print(\"Test accuracy: {}\".format(test_accuracy))\n",
    "print(\"Test score: {}\".format(test_loss))"
   ]
  },
  {
   "cell_type": "code",
   "execution_count": null,
   "metadata": {},
   "outputs": [],
   "source": []
  },
  {
   "cell_type": "code",
   "execution_count": 68,
   "metadata": {},
   "outputs": [],
   "source": [
    "# model - 2\n",
    "model = tf.keras.models.Sequential()\n",
    "model.add(tf.keras.layers.Dense(units=128, activation='relu', input_shape=(784, )))\n",
    "model.add(tf.keras.layers.Dropout(0.2))\n",
    "model.add(tf.keras.layers.Dense(units=1024, activation='relu'))\n",
    "model.add(tf.keras.layers.Dropout(0.35))\n",
    "model.add(tf.keras.layers.Dense(units=512, activation='relu'))\n",
    "model.add(tf.keras.layers.Dropout(0.2))\n",
    "model.add(tf.keras.layers.Dense(units=128, activation='relu'))\n",
    "model.add(tf.keras.layers.Dropout(0.2))\n",
    "model.add(tf.keras.layers.Dense(units=10, activation='softmax'))"
   ]
  },
  {
   "cell_type": "code",
   "execution_count": 69,
   "metadata": {},
   "outputs": [],
   "source": [
    "model.compile(optimizer='adam', loss='sparse_categorical_crossentropy', metrics=['sparse_categorical_accuracy'])"
   ]
  },
  {
   "cell_type": "code",
   "execution_count": 70,
   "metadata": {},
   "outputs": [
    {
     "name": "stdout",
     "output_type": "stream",
     "text": [
      "Model: \"sequential_4\"\n",
      "_________________________________________________________________\n",
      "Layer (type)                 Output Shape              Param #   \n",
      "=================================================================\n",
      "dense_10 (Dense)             (None, 128)               100480    \n",
      "_________________________________________________________________\n",
      "dropout_7 (Dropout)          (None, 128)               0         \n",
      "_________________________________________________________________\n",
      "dense_11 (Dense)             (None, 1024)              132096    \n",
      "_________________________________________________________________\n",
      "dropout_8 (Dropout)          (None, 1024)              0         \n",
      "_________________________________________________________________\n",
      "dense_12 (Dense)             (None, 512)               524800    \n",
      "_________________________________________________________________\n",
      "dropout_9 (Dropout)          (None, 512)               0         \n",
      "_________________________________________________________________\n",
      "dense_13 (Dense)             (None, 128)               65664     \n",
      "_________________________________________________________________\n",
      "dropout_10 (Dropout)         (None, 128)               0         \n",
      "_________________________________________________________________\n",
      "dense_14 (Dense)             (None, 10)                1290      \n",
      "=================================================================\n",
      "Total params: 824,330\n",
      "Trainable params: 824,330\n",
      "Non-trainable params: 0\n",
      "_________________________________________________________________\n"
     ]
    }
   ],
   "source": [
    "model.summary()"
   ]
  },
  {
   "cell_type": "code",
   "execution_count": 71,
   "metadata": {},
   "outputs": [
    {
     "name": "stdout",
     "output_type": "stream",
     "text": [
      "Train on 60000 samples\n",
      "Epoch 1/25\n",
      "60000/60000 [==============================] - 28s 461us/sample - loss: 0.5841 - sparse_categorical_accuracy: 0.7878\n",
      "Epoch 2/25\n",
      "60000/60000 [==============================] - 37s 619us/sample - loss: 0.4583 - sparse_categorical_accuracy: 0.8361\n",
      "Epoch 3/25\n",
      "60000/60000 [==============================] - 34s 573us/sample - loss: 0.4235 - sparse_categorical_accuracy: 0.8479 - loss: 0.4246 - sparse_categor\n",
      "Epoch 4/25\n",
      "60000/60000 [==============================] - ETA: 0s - loss: 0.4042 - sparse_categorical_accuracy: 0.855 - 22s 365us/sample - loss: 0.4042 - sparse_categorical_accuracy: 0.8553\n",
      "Epoch 5/25\n",
      "60000/60000 [==============================] - 22s 361us/sample - loss: 0.3901 - sparse_categorical_accuracy: 0.8610\n",
      "Epoch 6/25\n",
      "60000/60000 [==============================] - 22s 367us/sample - loss: 0.3762 - sparse_categorical_accuracy: 0.8662\n",
      "Epoch 7/25\n",
      "60000/60000 [==============================] - 22s 372us/sample - loss: 0.3677 - sparse_categorical_accuracy: 0.8690\n",
      "Epoch 8/25\n",
      "60000/60000 [==============================] - 23s 388us/sample - loss: 0.3617 - sparse_categorical_accuracy: 0.8717\n",
      "Epoch 9/25\n",
      "60000/60000 [==============================] - 22s 364us/sample - loss: 0.3530 - sparse_categorical_accuracy: 0.8741\n",
      "Epoch 10/25\n",
      "60000/60000 [==============================] - 22s 367us/sample - loss: 0.3468 - sparse_categorical_accuracy: 0.8766\n",
      "Epoch 11/25\n",
      "60000/60000 [==============================] - 22s 363us/sample - loss: 0.3416 - sparse_categorical_accuracy: 0.8777\n",
      "Epoch 12/25\n",
      "60000/60000 [==============================] - 22s 362us/sample - loss: 0.3380 - sparse_categorical_accuracy: 0.8789\n",
      "Epoch 13/25\n",
      "60000/60000 [==============================] - 22s 362us/sample - loss: 0.3324 - sparse_categorical_accuracy: 0.8794\n",
      "Epoch 14/25\n",
      "60000/60000 [==============================] - 22s 362us/sample - loss: 0.3366 - sparse_categorical_accuracy: 0.8792\n",
      "Epoch 15/25\n",
      "60000/60000 [==============================] - 22s 363us/sample - loss: 0.3290 - sparse_categorical_accuracy: 0.8826\n",
      "Epoch 16/25\n",
      "60000/60000 [==============================] - 22s 364us/sample - loss: 0.3212 - sparse_categorical_accuracy: 0.8846\n",
      "Epoch 17/25\n",
      "60000/60000 [==============================] - 22s 364us/sample - loss: 0.3207 - sparse_categorical_accuracy: 0.8847\n",
      "Epoch 18/25\n",
      "60000/60000 [==============================] - 22s 364us/sample - loss: 0.3186 - sparse_categorical_accuracy: 0.8872\n",
      "Epoch 19/25\n",
      "60000/60000 [==============================] - 22s 363us/sample - loss: 0.3156 - sparse_categorical_accuracy: 0.8867\n",
      "Epoch 20/25\n",
      "60000/60000 [==============================] - 22s 371us/sample - loss: 0.3145 - sparse_categorical_accuracy: 0.8874\n",
      "Epoch 21/25\n",
      "60000/60000 [==============================] - 22s 365us/sample - loss: 0.3128 - sparse_categorical_accuracy: 0.8872\n",
      "Epoch 22/25\n",
      "60000/60000 [==============================] - 22s 365us/sample - loss: 0.3073 - sparse_categorical_accuracy: 0.8896\n",
      "Epoch 23/25\n",
      "60000/60000 [==============================] - 22s 365us/sample - loss: 0.3103 - sparse_categorical_accuracy: 0.8894\n",
      "Epoch 24/25\n",
      "60000/60000 [==============================] - 22s 364us/sample - loss: 0.3058 - sparse_categorical_accuracy: 0.8910\n",
      "Epoch 25/25\n",
      "60000/60000 [==============================] - 22s 366us/sample - loss: 0.3042 - sparse_categorical_accuracy: 0.8912\n"
     ]
    },
    {
     "data": {
      "text/plain": [
       "<tensorflow.python.keras.callbacks.History at 0x13a3f2690>"
      ]
     },
     "execution_count": 71,
     "metadata": {},
     "output_type": "execute_result"
    }
   ],
   "source": [
    "model.fit(X_train, y_train, epochs=25)"
   ]
  },
  {
   "cell_type": "code",
   "execution_count": 72,
   "metadata": {},
   "outputs": [
    {
     "name": "stdout",
     "output_type": "stream",
     "text": [
      "10000/10000 [==============================] - 1s 125us/sample - loss: 0.3382 - sparse_categorical_accuracy: 0.8836\n"
     ]
    }
   ],
   "source": [
    "test_loss, test_accuracy = model.evaluate(X_test, y_test)"
   ]
  },
  {
   "cell_type": "code",
   "execution_count": null,
   "metadata": {},
   "outputs": [],
   "source": []
  }
 ],
 "metadata": {
  "kernelspec": {
   "display_name": "Python 3",
   "language": "python",
   "name": "python3"
  },
  "language_info": {
   "codemirror_mode": {
    "name": "ipython",
    "version": 3
   },
   "file_extension": ".py",
   "mimetype": "text/x-python",
   "name": "python",
   "nbconvert_exporter": "python",
   "pygments_lexer": "ipython3",
   "version": "3.7.4"
  }
 },
 "nbformat": 4,
 "nbformat_minor": 2
}
