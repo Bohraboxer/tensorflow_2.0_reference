{
 "cells": [
  {
   "cell_type": "code",
   "execution_count": 2,
   "metadata": {},
   "outputs": [
    {
     "data": {
      "text/plain": [
       "'2.1.0'"
      ]
     },
     "execution_count": 2,
     "metadata": {},
     "output_type": "execute_result"
    }
   ],
   "source": [
    "# import required packages\n",
    "import tensorflow as tf\n",
    "import matplotlib.pyplot as plt\n",
    "from tensorflow.keras.datasets import cifar10\n",
    "%matplotlib inline\n",
    "tf.__version__"
   ]
  },
  {
   "cell_type": "code",
   "execution_count": 4,
   "metadata": {},
   "outputs": [],
   "source": [
    "# class names in the dataset\n",
    "class_name = ['airplane', 'automobile', 'bird', 'cat', 'deer', 'dog', 'frog', 'horse', 'ship','truck']"
   ]
  },
  {
   "cell_type": "code",
   "execution_count": 5,
   "metadata": {},
   "outputs": [
    {
     "name": "stdout",
     "output_type": "stream",
     "text": [
      "Downloading data from https://www.cs.toronto.edu/~kriz/cifar-10-python.tar.gz\n",
      "170500096/170498071 [==============================] - 151s 1us/step\n"
     ]
    }
   ],
   "source": [
    "# loading the dataset\n",
    "(x_train, y_train), (x_test, y_test) = cifar10.load_data()"
   ]
  },
  {
   "cell_type": "code",
   "execution_count": 7,
   "metadata": {},
   "outputs": [
    {
     "data": {
      "text/plain": [
       "<matplotlib.image.AxesImage at 0x1452cc650>"
      ]
     },
     "execution_count": 7,
     "metadata": {},
     "output_type": "execute_result"
    },
    {
     "data": {
      "image/png": "[encoded data removed]",
      "text/plain": [
       "<Figure size 432x288 with 1 Axes>"
      ]
     },
     "metadata": {
      "needs_background": "light"
     },
     "output_type": "display_data"
    }
   ],
   "source": [
    "plt.imshow(x_train[15])"
   ]
  },
  {
   "cell_type": "code",
   "execution_count": 8,
   "metadata": {},
   "outputs": [],
   "source": [
    "# normalizing the data\n",
    "x_train = x_train/255.0"
   ]
  },
  {
   "cell_type": "code",
   "execution_count": 10,
   "metadata": {},
   "outputs": [
    {
     "data": {
      "text/plain": [
       "<matplotlib.image.AxesImage at 0x138035410>"
      ]
     },
     "execution_count": 10,
     "metadata": {},
     "output_type": "execute_result"
    },
    {
     "data": {
      "image/png": "[encoded data removed]",
      "text/plain": [
       "<Figure size 432x288 with 1 Axes>"
      ]
     },
     "metadata": {
      "needs_background": "light"
     },
     "output_type": "display_data"
    }
   ],
   "source": [
    "plt.imshow(x_train[15])"
   ]
  },
  {
   "cell_type": "code",
   "execution_count": 11,
   "metadata": {},
   "outputs": [
    {
     "data": {
      "text/plain": [
       "(50000, 32, 32, 3)"
      ]
     },
     "execution_count": 11,
     "metadata": {},
     "output_type": "execute_result"
    }
   ],
   "source": [
    "x_train.shape"
   ]
  },
  {
   "cell_type": "code",
   "execution_count": 12,
   "metadata": {},
   "outputs": [],
   "source": [
    "# normalizing the data\n",
    "x_test = x_test/255.0"
   ]
  },
  {
   "cell_type": "code",
   "execution_count": null,
   "metadata": {},
   "outputs": [],
   "source": []
  },
  {
   "cell_type": "code",
   "execution_count": 28,
   "metadata": {},
   "outputs": [],
   "source": [
    "# defining my model\n",
    "model = tf.keras.models.Sequential()\n",
    "\n",
    "# adding first convolutional layer\n",
    "model.add(tf.keras.layers.Conv2D(filters=32, kernel_size=3, padding='same', activation='relu', input_shape=[32,32,3]))\n",
    "\n",
    "# adding maxpooling layer\n",
    "model.add(tf.keras.layers.MaxPool2D(pool_size=2, strides=2, padding = 'same'))          \n",
    "    \n",
    "# adding second convolutional layer\n",
    "model.add(tf.keras.layers.Conv2D(filters=128, kernel_size=3, padding='same', activation='relu'))\n",
    "\n",
    "# adding maxpooling layer\n",
    "model.add(tf.keras.layers.MaxPool2D(pool_size=2, strides=2, padding = 'valid'))  \n",
    "\n",
    "\n",
    "model.add(tf.keras.layers.Dropout(0.15))\n",
    "\n",
    "\n",
    "\n",
    "# adding third convolutional layer\n",
    "model.add(tf.keras.layers.Conv2D(filters=64, kernel_size=3, padding='same', activation='relu'))\n",
    "          \n",
    "\n",
    "# adding fourth convolutional layer\n",
    "model.add(tf.keras.layers.Conv2D(filters=64, kernel_size=3, padding='same', activation='relu'))\n",
    "\n",
    "# adding maxpooling layer\n",
    "model.add(tf.keras.layers.MaxPool2D(pool_size=2, strides=2, padding = 'valid'))          \n",
    "\n",
    "# adding a flattening layer\n",
    "model.add(tf.keras.layers.Flatten())\n",
    "\n",
    "model.add(tf.keras.layers.Dropout(0.15))\n",
    "\n",
    "          \n",
    "# adding a dense layer\n",
    "model.add(tf.keras.layers.Dense(units=128, activation='relu'))\n",
    "\n",
    "# adding an output layer\n",
    "model.add(tf.keras.layers.Dense(units = 10, activation='softmax'))          "
   ]
  },
  {
   "cell_type": "code",
   "execution_count": 29,
   "metadata": {},
   "outputs": [
    {
     "name": "stdout",
     "output_type": "stream",
     "text": [
      "Model: \"sequential_3\"\n",
      "_________________________________________________________________\n",
      "Layer (type)                 Output Shape              Param #   \n",
      "=================================================================\n",
      "conv2d_8 (Conv2D)            (None, 32, 32, 32)        896       \n",
      "_________________________________________________________________\n",
      "max_pooling2d_6 (MaxPooling2 (None, 16, 16, 32)        0         \n",
      "_________________________________________________________________\n",
      "conv2d_9 (Conv2D)            (None, 16, 16, 128)       36992     \n",
      "_________________________________________________________________\n",
      "max_pooling2d_7 (MaxPooling2 (None, 8, 8, 128)         0         \n",
      "_________________________________________________________________\n",
      "dropout_1 (Dropout)          (None, 8, 8, 128)         0         \n",
      "_________________________________________________________________\n",
      "conv2d_10 (Conv2D)           (None, 8, 8, 64)          73792     \n",
      "_________________________________________________________________\n",
      "conv2d_11 (Conv2D)           (None, 8, 8, 64)          36928     \n",
      "_________________________________________________________________\n",
      "max_pooling2d_8 (MaxPooling2 (None, 4, 4, 64)          0         \n",
      "_________________________________________________________________\n",
      "flatten_2 (Flatten)          (None, 1024)              0         \n",
      "_________________________________________________________________\n",
      "dropout_2 (Dropout)          (None, 1024)              0         \n",
      "_________________________________________________________________\n",
      "dense_4 (Dense)              (None, 128)               131200    \n",
      "_________________________________________________________________\n",
      "dense_5 (Dense)              (None, 10)                1290      \n",
      "=================================================================\n",
      "Total params: 281,098\n",
      "Trainable params: 281,098\n",
      "Non-trainable params: 0\n",
      "_________________________________________________________________\n"
     ]
    }
   ],
   "source": [
    "# summary of the model\n",
    "model.summary()"
   ]
  },
  {
   "cell_type": "code",
   "execution_count": 30,
   "metadata": {},
   "outputs": [],
   "source": [
    "# compiling the model\n",
    "model.compile(loss='sparse_categorical_crossentropy', optimizer=\"Adam\", metrics=['sparse_categorical_accuracy'])"
   ]
  },
  {
   "cell_type": "code",
   "execution_count": 31,
   "metadata": {},
   "outputs": [
    {
     "name": "stdout",
     "output_type": "stream",
     "text": [
      "Train on 50000 samples\n",
      "Epoch 1/25\n",
      "50000/50000 [==============================] - 211s 4ms/sample - loss: 1.5106 - sparse_categorical_accuracy: 0.4436\n",
      "Epoch 2/25\n",
      "50000/50000 [==============================] - 197s 4ms/sample - loss: 1.0719 - sparse_categorical_accuracy: 0.6198\n",
      "Epoch 3/25\n",
      "50000/50000 [==============================] - 202s 4ms/sample - loss: 0.9009 - sparse_categorical_accuracy: 0.6811\n",
      "Epoch 4/25\n",
      "50000/50000 [==============================] - 190s 4ms/sample - loss: 0.7984 - sparse_categorical_accuracy: 0.7190\n",
      "Epoch 5/25\n",
      "50000/50000 [==============================] - 189s 4ms/sample - loss: 0.7248 - sparse_categorical_accuracy: 0.7461\n",
      "Epoch 6/25\n",
      "50000/50000 [==============================] - 218s 4ms/sample - loss: 0.6659 - sparse_categorical_accuracy: 0.7650\n",
      "Epoch 7/25\n",
      "50000/50000 [==============================] - 217s 4ms/sample - loss: 0.6176 - sparse_categorical_accuracy: 0.7827\n",
      "Epoch 8/25\n",
      "50000/50000 [==============================] - 229s 5ms/sample - loss: 0.5721 - sparse_categorical_accuracy: 0.7978\n",
      "Epoch 9/25\n",
      "50000/50000 [==============================] - 173s 3ms/sample - loss: 0.5370 - sparse_categorical_accuracy: 0.8102\n",
      "Epoch 10/25\n",
      "50000/50000 [==============================] - 173s 3ms/sample - loss: 0.5085 - sparse_categorical_accuracy: 0.8188\n",
      "Epoch 11/25\n",
      "50000/50000 [==============================] - 173s 3ms/sample - loss: 0.4733 - sparse_categorical_accuracy: 0.8330\n",
      "Epoch 12/25\n",
      "50000/50000 [==============================] - 172s 3ms/sample - loss: 0.4502 - sparse_categorical_accuracy: 0.8393\n",
      "Epoch 13/25\n",
      "50000/50000 [==============================] - 197s 4ms/sample - loss: 0.4283 - sparse_categorical_accuracy: 0.8459\n",
      "Epoch 14/25\n",
      "50000/50000 [==============================] - 223s 4ms/sample - loss: 0.4152 - sparse_categorical_accuracy: 0.8504\n",
      "Epoch 15/25\n",
      "50000/50000 [==============================] - 218s 4ms/sample - loss: 0.3887 - sparse_categorical_accuracy: 0.8610\n",
      "Epoch 16/25\n",
      "50000/50000 [==============================] - 176s 4ms/sample - loss: 0.3769 - sparse_categorical_accuracy: 0.8645\n",
      "Epoch 17/25\n",
      "50000/50000 [==============================] - 210s 4ms/sample - loss: 0.3599 - sparse_categorical_accuracy: 0.8720\n",
      "Epoch 18/25\n",
      "50000/50000 [==============================] - 206s 4ms/sample - loss: 0.3473 - sparse_categorical_accuracy: 0.8780\n",
      "Epoch 19/25\n",
      "50000/50000 [==============================] - 252s 5ms/sample - loss: 0.3353 - sparse_categorical_accuracy: 0.8798\n",
      "Epoch 20/25\n",
      "50000/50000 [==============================] - 178s 4ms/sample - loss: 0.3302 - sparse_categorical_accuracy: 0.8821\n",
      "Epoch 21/25\n",
      "50000/50000 [==============================] - 191s 4ms/sample - loss: 0.3148 - sparse_categorical_accuracy: 0.8877\n",
      "Epoch 22/25\n",
      "50000/50000 [==============================] - 222s 4ms/sample - loss: 0.3057 - sparse_categorical_accuracy: 0.8903\n",
      "Epoch 23/25\n",
      "50000/50000 [==============================] - 251s 5ms/sample - loss: 0.3036 - sparse_categorical_accuracy: 0.8916\n",
      "Epoch 24/25\n",
      "50000/50000 [==============================] - 184s 4ms/sample - loss: 0.2952 - sparse_categorical_accuracy: 0.8949\n",
      "Epoch 25/25\n",
      "50000/50000 [==============================] - 173s 3ms/sample - loss: 0.2879 - sparse_categorical_accuracy: 0.8987\n"
     ]
    },
    {
     "data": {
      "text/plain": [
       "<tensorflow.python.keras.callbacks.History at 0x138a74950>"
      ]
     },
     "execution_count": 31,
     "metadata": {},
     "output_type": "execute_result"
    }
   ],
   "source": [
    "# training the model\n",
    "model.fit(x_train, y_train, epochs=25)"
   ]
  },
  {
   "cell_type": "code",
   "execution_count": 32,
   "metadata": {},
   "outputs": [
    {
     "name": "stdout",
     "output_type": "stream",
     "text": [
      "10000/10000 [==============================] - 10s 1ms/sample - loss: 0.9183 - sparse_categorical_accuracy: 0.7617\n"
     ]
    }
   ],
   "source": [
    "# evaluating the model\n",
    "test_loss, test_accuracy = model.evaluate(x_test, y_test)"
   ]
  },
  {
   "cell_type": "code",
   "execution_count": 33,
   "metadata": {},
   "outputs": [
    {
     "name": "stdout",
     "output_type": "stream",
     "text": [
      "Test accuracy 0.7616999745368958\n",
      "Test loss 0.9182588661670685\n"
     ]
    }
   ],
   "source": [
    "# the accuracy and the loss\n",
    "print(\"Test accuracy {}\".format(test_accuracy))\n",
    "print(\"Test loss {}\".format(test_loss))"
   ]
  },
  {
   "cell_type": "code",
   "execution_count": null,
   "metadata": {},
   "outputs": [],
   "source": []
  }
 ],
 "metadata": {
  "kernelspec": {
   "display_name": "Python 3",
   "language": "python",
   "name": "python3"
  },
  "language_info": {
   "codemirror_mode": {
    "name": "ipython",
    "version": 3
   },
   "file_extension": ".py",
   "mimetype": "text/x-python",
   "name": "python",
   "nbconvert_exporter": "python",
   "pygments_lexer": "ipython3",
   "version": "3.7.4"
  }
 },
 "nbformat": 4,
 "nbformat_minor": 2
}
